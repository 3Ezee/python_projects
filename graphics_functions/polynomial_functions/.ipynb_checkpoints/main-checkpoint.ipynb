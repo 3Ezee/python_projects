{
 "cells": [
  {
   "cell_type": "code",
   "execution_count": 1,
   "metadata": {},
   "outputs": [],
   "source": [
    "# coding: utf-8\n",
    "\"\"\"\n",
    "Created on Mon May 10 20:56:32 2018\n",
    "\n",
    "@author: Ezequiel\n",
    "\"\"\"\n",
    "\n",
    "class Point:\n",
    "    a = 0 #ax³\n",
    "    b = 0 #bx²\n",
    "    c = 0 #cx\n",
    "    d = 0 #d\n",
    "\n",
    "    # ax³ + bx² + cx + dn = y\n",
    "    def GetY(self,x):\n",
    "        return self.a*x*x*x +self.b*x*x +self.c*x +self.d "
   ]
  },
  {
   "cell_type": "code",
   "execution_count": 4,
   "metadata": {},
   "outputs": [
    {
     "name": "stdout",
     "output_type": "stream",
     "text": [
      "x: [-10, -9, -8, -7, -6, -5, -4, -3, -2, -1, 0, 1, 2, 3, 4, 5, 6, 7, 8, 9]\n",
      "y: [-909, -656, -455, -300, -185, -104, -51, -20, -5, 0, 1, 4, 15, 40, 85, 156, 259, 400, 585, 820]\n"
     ]
    },
    {
     "data": {
      "image/png": "[encoded data removed]",
      "text/plain": [
       "<matplotlib.figure.Figure at 0x266f80580f0>"
      ]
     },
     "metadata": {},
     "output_type": "display_data"
    }
   ],
   "source": [
    "import matplotlib.pyplot as plt\n",
    "\n",
    "point = Point()\n",
    "\n",
    "rangeMin = -10\n",
    "rangeMax = 10\n",
    "point.a = 1 \n",
    "point.b = 1\n",
    "point.c = 1\n",
    "point.d = 1\n",
    "# x = 0\n",
    "\n",
    "rx = [] \n",
    "ry = []\n",
    " \n",
    "\n",
    "for x in range(rangeMin, rangeMax):\n",
    "    rx.append(x)\n",
    "    ry.append(point.GetY(x))\n",
    "\n",
    "\n",
    "print(\"x:\",rx)\n",
    "print(\"y:\",ry)\n",
    "\n",
    "\n",
    "\n",
    "plt.plot(rx,ry)\n",
    "plt.scatter(rx,ry,s=20)\n",
    "#plt.xticks(100)\n",
    "plt.autoscale(tight = False)\n",
    "plt.show()"
   ]
  }
 ],
 "metadata": {
  "kernelspec": {
   "display_name": "Python 3",
   "language": "python",
   "name": "python3"
  },
  "language_info": {
   "codemirror_mode": {
    "name": "ipython",
    "version": 3
   },
   "file_extension": ".py",
   "mimetype": "text/x-python",
   "name": "python",
   "nbconvert_exporter": "python",
   "pygments_lexer": "ipython3",
   "version": "3.6.4"
  }
 },
 "nbformat": 4,
 "nbformat_minor": 2
}

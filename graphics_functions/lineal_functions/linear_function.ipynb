{
 "cells": [
  {
   "cell_type": "code",
   "execution_count": 1,
   "metadata": {},
   "outputs": [],
   "source": [
    "class Point:\n",
    "    m = 0 #slope\n",
    "    x = 0 #variable independent\n",
    "    b = 0 #intercept\n",
    "    y = 0 #variable independent\n",
    "\n",
    "    # mx + b = y\n",
    "    def GetY(self):\n",
    "        return self.m * self.x + self.b\n",
    "        \n",
    "    # (y - b)/ m = x \n",
    "    def GetX(self):\n",
    "        return (self.y - self.b)/self.m\n",
    "    \n",
    "    # (y - b)/ x = y \n",
    "    def GetM(self):\n",
    "        return (self.y - self.b)/self.x\n",
    "    \n",
    "    # -mx +y= b\n",
    "    def GetB(self):\n",
    "        return -self.m * self.x + self.y"
   ]
  },
  {
   "cell_type": "code",
   "execution_count": 7,
   "metadata": {},
   "outputs": [
    {
     "name": "stdout",
     "output_type": "stream",
     "text": [
      "x: [-10, -9, -8, -7, -6, -5, -4, -3, -2, -1, 0, 1, 2, 3, 4, 5, 6, 7, 8, 9]\n",
      "y: [10, 9, 8, 7, 6, 5, 4, 3, 2, 1, 0, -1, -2, -3, -4, -5, -6, -7, -8, -9]\n"
     ]
    },
    {
     "data": {
      "image/png": "[encoded data removed]",
      "text/plain": [
       "<matplotlib.figure.Figure at 0x1489ba2bb38>"
      ]
     },
     "metadata": {},
     "output_type": "display_data"
    }
   ],
   "source": [
    "import matplotlib.pyplot as plt\n",
    "import ManagerPoint as mp\n",
    "\n",
    "point1 = mp.Point()\n",
    "\n",
    "# 1x + 2 = y\n",
    "point1.m = -1\n",
    "point1.b = 0\n",
    "\n",
    "# x = 0\n",
    "\n",
    "rx = [] \n",
    "ry = []\n",
    " \n",
    "\n",
    "for x in range(-10, 10):\n",
    "    point1.x = x\n",
    "    rx.append(x)\n",
    "    ry.append(point1.GetY())\n",
    "\n",
    "\n",
    "print(\"x:\",rx)\n",
    "print(\"y:\",ry)\n",
    "\n",
    "\n",
    "\n",
    "plt.plot(rx,ry)\n",
    "plt.scatter(rx,ry,s=20)\n",
    "plt.xticks(len(100)\n",
    "plt.autoscale(tight = False)\n",
    "plt.show()"
   ]
  }
 ],
 "metadata": {
  "kernelspec": {
   "display_name": "Python 3",
   "language": "python",
   "name": "python3"
  },
  "language_info": {
   "codemirror_mode": {
    "name": "ipython",
    "version": 3
   },
   "file_extension": ".py",
   "mimetype": "text/x-python",
   "name": "python",
   "nbconvert_exporter": "python",
   "pygments_lexer": "ipython3",
   "version": "3.6.4"
  }
 },
 "nbformat": 4,
 "nbformat_minor": 2
}
